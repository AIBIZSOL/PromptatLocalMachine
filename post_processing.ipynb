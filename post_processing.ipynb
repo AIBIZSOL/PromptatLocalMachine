{
 "cells": [
  {
   "cell_type": "code",
   "execution_count": 4,
   "metadata": {},
   "outputs": [],
   "source": [
    "# Given a text this script will try to extract every sequence of words between\n",
    "# two quotation marks and between two asterisks.\n",
    "\n",
    "import re\n",
    "import sys\n",
    "\n",
    "def extract_quotes(text):\n",
    "    \"\"\"Extracts every sequence of words between two quotation marks.\"\"\"\n",
    "    quotes = re.findall(r'\\\"(.+?)\\\"', text)\n",
    "    return quotes\n",
    "\n",
    "def extract_asterisks(text):\n",
    "    \"\"\"Extracts every sequence of words between two asterisks.\"\"\"\n",
    "    asterisks = re.findall(r'\\*(.+?)\\*', text)\n",
    "    return asterisks\n",
    "\n",
    "allowed_lm = ['Constant Product Market Maker (CPMM)',\n",
    " 'Concentrated Liquidity (CL)',\n",
    " 'synthetic Proactive Market Making (sPMM)',\n",
    " 'Constant Sum Market Maker (CSMM)',\n",
    " 'Constant Mean Market Maker (CMMM)',\n",
    " 'Hybrid Constant Function Market Makers (CFMMs)',\n",
    " 'Dynamic Automated Market Maker (DAMM)',\n",
    " 'Proactive Market Maker (PMM)',\n",
    " 'Virtual Automated Market Makers (vAMM)',\n",
    " 'Other',\n",
    " 'Cannot determine']\n",
    "\n",
    "allowed_license = ['Yes', 'No', 'Cannot determine']"
   ]
  },
  {
   "cell_type": "code",
   "execution_count": 5,
   "metadata": {},
   "outputs": [
    {
     "data": {
      "text/plain": [
       "['Constant Product Market Maker (CPMM)',\n",
       " 'Concentrated Liquidity (CL)',\n",
       " 'synthetic Proactive Market Making (sPMM)',\n",
       " 'Constant Sum Market Maker (CSMM)',\n",
       " 'Constant Mean Market Maker (CMMM)',\n",
       " 'Hybrid Constant Function Market Makers (CFMMs)',\n",
       " 'Dynamic Automated Market Maker (DAMM)',\n",
       " 'Proactive Market Maker (PMM)',\n",
       " 'Virtual Automated Market Makers (vAMM)',\n",
       " 'Other',\n",
       " 'Cannot determine']"
      ]
     },
     "execution_count": 5,
     "metadata": {},
     "output_type": "execute_result"
    }
   ],
   "source": [
    "allowed_lm"
   ]
  },
  {
   "cell_type": "code",
   "execution_count": 3,
   "metadata": {},
   "outputs": [
    {
     "data": {
      "text/plain": [
       "['Constant Sum Market Maker (CSMM)']"
      ]
     },
     "execution_count": 3,
     "metadata": {},
     "output_type": "execute_result"
    }
   ],
   "source": [
    "txt = \"\"\"  Based on the provided context, the liquidity model employed by the DEX is a \"Constant Sum Market Maker (CSMM)\" model.\"\"\"\n",
    "extract_quotes(txt)"
   ]
  },
  {
   "cell_type": "code",
   "execution_count": null,
   "metadata": {},
   "outputs": [],
   "source": [
    "# Look for a matching between the extracted quotes and the allowed liquidity models.\n",
    "# The matching is done by computing the Levenshtein distance between the extracted quotes and the allowed liquidity models.\n"
   ]
  }
 ],
 "metadata": {
  "kernelspec": {
   "display_name": "base",
   "language": "python",
   "name": "python3"
  },
  "language_info": {
   "codemirror_mode": {
    "name": "ipython",
    "version": 3
   },
   "file_extension": ".py",
   "mimetype": "text/x-python",
   "name": "python",
   "nbconvert_exporter": "python",
   "pygments_lexer": "ipython3",
   "version": "3.10.9"
  },
  "orig_nbformat": 4
 },
 "nbformat": 4,
 "nbformat_minor": 2
}
